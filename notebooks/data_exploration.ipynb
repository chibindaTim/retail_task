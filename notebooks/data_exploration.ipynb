{
 "cells": [
  {
   "cell_type": "markdown",
   "metadata": {},
   "source": [
    "# Retail Dataset - Data Exploration\n",
    "\n",
    "Updated exploration of the retail customer churn dataset for regression task."
   ]
  },
  {
   "cell_type": "code",
   "execution_count": null,
   "metadata": {},
   "outputs": [],
   "source": [
    "import pandas as pd\n",
    "import numpy as np\n",
    "import matplotlib.pyplot as plt\n",
    "import seaborn as sns\n",
    "import warnings\n",
    "warnings.filterwarnings('ignore')\n",
    "\n",
    "# Set display options\n",
    "pd.set_option('display.max_columns', None)\n",
    "pd.set_option('display.width', None)\n",
    "plt.style.use('default')"
   ]
  },
  {
   "cell_type": "code",
   "execution_count": null,
   "metadata": {},
   "outputs": [],
   "source": [
    "# Load the dataset with correct path\n",
    "df = pd.read_csv('../data/train_data.csv')\n",
    "print(f\"Dataset shape: {df.shape}\")\n",
    "print(f\"Memory usage: {df.memory_usage(deep=True).sum() / 1024**2:.2f} MB\")"
   ]
  },
  {
   "cell_type": "code",
   "execution_count": null,
   "metadata": {},
   "outputs": [],
   "source": [
    "# Dataset overview\n",
    "print(\"Dataset Info:\")\n",
    "df.info()\n",
    "print(\"\\nFirst few rows:\")\n",
    "df.head()"
   ]
  },
  {
   "cell_type": "code",
   "execution_count": null,
   "metadata": {},
   "outputs": [],
   "source": [
    "# Target variable analysis\n",
    "print(\"Target Variable Analysis - 'churned':\")\n",
    "print(df['churned'].value_counts())\n",
    "print(f\"\\nChurn rate: {df['churned'].value_counts(normalize=True)['Yes']:.2%}\")\n",
    "\n",
    "# Visualize target distribution\n",
    "plt.figure(figsize=(8, 5))\n",
    "df['churned'].value_counts().plot(kind='bar', color=['skyblue', 'salmon'])\n",
    "plt.title('Customer Churn Distribution')\n",
    "plt.xlabel('Churned')\n",
    "plt.ylabel('Count')\n",
    "plt.xticks(rotation=0)\n",
    "plt.show()"
   ]
  },
  {
   "cell_type": "code",
   "execution_count": null,
   "metadata": {},
   "outputs": [],
   "source": [
    "# Missing values analysis\n",
    "print(\"Missing Values Analysis:\")\n",
    "missing_values = df.isnull().sum()\n",
    "missing_percent = (missing_values / len(df)) * 100\n",
    "missing_df = pd.DataFrame({\n",
    "    'Missing Count': missing_values,\n",
    "    'Missing Percentage': missing_percent\n",
    "})\n",
    "missing_df = missing_df[missing_df['Missing Count'] > 0].sort_values('Missing Count', ascending=False)\n",
    "print(missing_df if len(missing_df) > 0 else \"No missing values found!\")"
   ]
  },
  {
   "cell_type": "code",
   "execution_count": null,
   "metadata": {},
   "outputs": [],
   "source": [
    "# Data types summary\n",
    "print(\"Data Types Summary:\")\n",
    "dtype_counts = df.dtypes.value_counts()\n",
    "print(dtype_counts)\n",
    "\n",
    "# Separate numerical and categorical columns\n",
    "numerical_cols = df.select_dtypes(include=[np.number]).columns.tolist()\n",
    "categorical_cols = df.select_dtypes(include=['object']).columns.tolist()\n",
    "\n",
    "print(f\"\\nNumerical columns ({len(numerical_cols)}): {numerical_cols[:10]}...\")\n",
    "print(f\"Categorical columns ({len(categorical_cols)}): {categorical_cols[:10]}...\")"
   ]
  },
  {
   "cell_type": "code",
   "execution_count": null,
   "metadata": {},
   "outputs": [],
   "source": [
    "# Statistical summary for numerical features\n",
    "print(\"Statistical Summary - Numerical Features:\")\n",
    "df[numerical_cols].describe()"
   ]
  },
  {
   "cell_type": "code",
   "execution_count": null,
   "metadata": {},
   "outputs": [],
   "source": [
    "# Key categorical features analysis\n",
    "key_categorical = ['gender', 'income_bracket', 'loyalty_program', 'marital_status', \n",
    "                   'education_level', 'product_category', 'payment_method']\n",
    "\n",
    "print(\"Key Categorical Features Analysis:\")\n",
    "for col in key_categorical:\n",
    "    if col in df.columns:\n",
    "        print(f\"\\n{col.upper()}:\")\n",
    "        print(df[col].value_counts().head())\n",
    "        print(f\"Unique values: {df[col].nunique()}\")"
   ]
  },
  {
   "cell_type": "code",
   "execution_count": null,
   "metadata": {},
   "outputs": [],
   "source": [
    "# Correlation analysis for key numerical features\n",
    "key_numerical = ['age', 'membership_years', 'avg_purchase_value', 'purchase_frequency_encoded',\n",
    "                'total_sales', 'customer_support_calls', 'days_since_last_purchase']\n",
    "\n",
    "# Create a subset with available numerical columns\n",
    "available_numerical = [col for col in key_numerical if col in numerical_cols]\n",
    "if len(available_numerical) < len(key_numerical):\n",
    "    # Use first 10 numerical columns if key ones not available\n",
    "    available_numerical = numerical_cols[:10]\n",
    "\n",
    "print(f\"Correlation Analysis for: {available_numerical}\")\n",
    "\n",
    "# Calculate correlation matrix\n",
    "corr_matrix = df[available_numerical].corr()\n",
    "\n",
    "# Plot correlation heatmap\n",
    "plt.figure(figsize=(12, 8))\n",
    "sns.heatmap(corr_matrix, annot=True, cmap='coolwarm', center=0, \n",
    "            square=True, fmt='.2f', cbar_kws={'shrink': 0.8})\n",
    "plt.title('Correlation Matrix - Key Numerical Features')\n",
    "plt.tight_layout()\n",
    "plt.show()"
   ]
  },
  {
   "cell_type": "code",
   "execution_count": null,
   "metadata": {},
   "outputs": [],
   "source": [
    "# Sample data for quick analysis (to avoid memory issues)\n",
    "sample_size = 10000\n",
    "df_sample = df.sample(n=sample_size, random_state=42)\n",
    "print(f\"Working with sample of {sample_size} rows for visualizations\")\n",
    "\n",
    "# Age distribution by churn status\n",
    "plt.figure(figsize=(12, 4))\n",
    "\n",
    "plt.subplot(1, 2, 1)\n",
    "for churn_status in df_sample['churned'].unique():\n",
    "    subset = df_sample[df_sample['churned'] == churn_status]\n",
    "    plt.hist(subset['age'], alpha=0.7, label=f'Churned: {churn_status}', bins=30)\n",
    "plt.xlabel('Age')\n",
    "plt.ylabel('Frequency')\n",
    "plt.title('Age Distribution by Churn Status')\n",
    "plt.legend()\n",
    "\n",
    "plt.subplot(1, 2, 2)\n",
    "df_sample.boxplot(column='age', by='churned', ax=plt.gca())\n",
    "plt.title('Age Distribution by Churn Status (Boxplot)')\n",
    "plt.suptitle('')  # Remove default title\n",
    "\n",
    "plt.tight_layout()\n",
    "plt.show()"
   ]
  },
  {
   "cell_type": "code",
   "execution_count": null,
   "metadata": {},
   "outputs": [],
   "source": [
    "# Summary insights\n",
    "print(\"=\" * 60)\n",
    "print(\"DATASET SUMMARY INSIGHTS\")\n",
    "print(\"=\" * 60)\n",
    "print(f\"• Dataset size: {df.shape[0]:,} rows × {df.shape[1]} columns\")\n",
    "print(f\"• Target variable: 'churned' with {df['churned'].nunique()} unique values\")\n",
    "print(f\"• Churn rate: {(df['churned'] == 'Yes').mean():.1%}\")\n",
    "print(f\"• Memory usage: {df.memory_usage(deep=True).sum() / 1024**2:.1f} MB\")\n",
    "print(f\"• Data types: {len(numerical_cols)} numerical, {len(categorical_cols)} categorical\")\n",
    "print(f\"• Missing values: {'None' if df.isnull().sum().sum() == 0 else df.isnull().sum().sum()}\")\n",
    "print(\"\\n• Key features for modeling:\")\n",
    "print(\"  - Customer demographics: age, gender, income_bracket\")\n",
    "print(\"  - Purchase behavior: avg_purchase_value, total_sales, purchase_frequency\")\n",
    "print(\"  - Engagement: customer_support_calls, days_since_last_purchase\")\n",
    "print(\"  - Product preferences: product_category, payment_method\")\n",
    "print(\"\\n• Recommendations:\")\n",
    "print(\"  - Use sampling for faster model training (large dataset)\")\n",
    "print(\"  - Apply feature engineering for categorical variables\")\n",
    "print(\"  - Consider feature selection due to high dimensionality\")\n",
    "print(\"  - Monitor for class imbalance in target variable\")"
   ]
  }
 ],
 "metadata": {
  "kernelspec": {
   "display_name": "Python 3",
   "language": "python",
   "name": "python3"
  },
  "language_info": {
   "codemirror_mode": {
    "name": "ipython",
    "version": 3
   },
   "file_extension": ".py",
   "mimetype": "text/x-python",
   "name": "python",
   "nbconvert_exporter": "python",
   "pygments_lexer": "ipython3",
   "version": "3.8.5"
  }
 },
 "nbformat": 4,
 "nbformat_minor": 4
}
